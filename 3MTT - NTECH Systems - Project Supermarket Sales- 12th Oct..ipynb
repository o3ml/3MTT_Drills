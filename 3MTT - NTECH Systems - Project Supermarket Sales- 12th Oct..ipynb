{
 "cells": [
  {
   "cell_type": "code",
   "execution_count": 90,
   "metadata": {},
   "outputs": [],
   "source": [
    "import numpy as np\n",
    "import pandas as pd\n",
    "import matplotlib.pyplot as plt\n",
    "import seaborn as sns\n",
    "from scipy import stats"
   ]
  },
  {
   "cell_type": "code",
   "execution_count": 2,
   "metadata": {},
   "outputs": [],
   "source": [
    "data = pd.read_csv(r\"C:\\Users\\Omotayo Oluwafemi\\Desktop\\3MTT\\supermarket_sales - Sheet1.csv\")"
   ]
  },
  {
   "cell_type": "code",
   "execution_count": 3,
   "metadata": {},
   "outputs": [
    {
     "data": {
      "text/html": [
       "<div>\n",
       "<style scoped>\n",
       "    .dataframe tbody tr th:only-of-type {\n",
       "        vertical-align: middle;\n",
       "    }\n",
       "\n",
       "    .dataframe tbody tr th {\n",
       "        vertical-align: top;\n",
       "    }\n",
       "\n",
       "    .dataframe thead th {\n",
       "        text-align: right;\n",
       "    }\n",
       "</style>\n",
       "<table border=\"1\" class=\"dataframe\">\n",
       "  <thead>\n",
       "    <tr style=\"text-align: right;\">\n",
       "      <th></th>\n",
       "      <th>Invoice ID</th>\n",
       "      <th>Branch</th>\n",
       "      <th>City</th>\n",
       "      <th>Customer type</th>\n",
       "      <th>Product line</th>\n",
       "      <th>Unit price</th>\n",
       "      <th>Quantity</th>\n",
       "      <th>Review Quantity</th>\n",
       "      <th>Check</th>\n",
       "      <th>Tax 5%</th>\n",
       "      <th>Total</th>\n",
       "      <th>Date</th>\n",
       "      <th>Time</th>\n",
       "      <th>Payment</th>\n",
       "      <th>cogs</th>\n",
       "      <th>gross margin percentage</th>\n",
       "      <th>gross income</th>\n",
       "      <th>Rating</th>\n",
       "    </tr>\n",
       "  </thead>\n",
       "  <tbody>\n",
       "    <tr>\n",
       "      <th>0</th>\n",
       "      <td>750-67-8428</td>\n",
       "      <td>R1C1</td>\n",
       "      <td>Yangon</td>\n",
       "      <td>Customer</td>\n",
       "      <td>Health and beauty</td>\n",
       "      <td>67.99</td>\n",
       "      <td>7.0</td>\n",
       "      <td>7</td>\n",
       "      <td>NaN</td>\n",
       "      <td>23.8%</td>\n",
       "      <td>$475.93</td>\n",
       "      <td>1/5/2019</td>\n",
       "      <td>1:08:00 PM</td>\n",
       "      <td>Ewallet</td>\n",
       "      <td>522.83</td>\n",
       "      <td>4.761905</td>\n",
       "      <td>26.1415</td>\n",
       "      <td>9.1</td>\n",
       "    </tr>\n",
       "    <tr>\n",
       "      <th>1</th>\n",
       "      <td>226-31-3081</td>\n",
       "      <td>C</td>\n",
       "      <td>Naypyitaw</td>\n",
       "      <td>Normal</td>\n",
       "      <td>Electronic \\naccessories</td>\n",
       "      <td>15.28</td>\n",
       "      <td>5.0</td>\n",
       "      <td>5</td>\n",
       "      <td>NaN</td>\n",
       "      <td>3.8%</td>\n",
       "      <td>$76.40</td>\n",
       "      <td>3/8/2019</td>\n",
       "      <td>10:29:00 AM</td>\n",
       "      <td>Cash</td>\n",
       "      <td>76.40</td>\n",
       "      <td>4.761905</td>\n",
       "      <td>3.8200</td>\n",
       "      <td>9.6</td>\n",
       "    </tr>\n",
       "    <tr>\n",
       "      <th>2</th>\n",
       "      <td>631-41-3108</td>\n",
       "      <td>A</td>\n",
       "      <td>Yangon</td>\n",
       "      <td>Normal</td>\n",
       "      <td>Home and lifestyle</td>\n",
       "      <td>46.33</td>\n",
       "      <td>7.0</td>\n",
       "      <td>7</td>\n",
       "      <td>NaN</td>\n",
       "      <td>16.2%</td>\n",
       "      <td>$324.31</td>\n",
       "      <td>3/3/2019</td>\n",
       "      <td>1:23:00 PM</td>\n",
       "      <td>Credit card</td>\n",
       "      <td>324.31</td>\n",
       "      <td>NaN</td>\n",
       "      <td>16.2155</td>\n",
       "      <td>7.4</td>\n",
       "    </tr>\n",
       "    <tr>\n",
       "      <th>3</th>\n",
       "      <td>123-19-1176</td>\n",
       "      <td>A</td>\n",
       "      <td>Yangon</td>\n",
       "      <td>Customer</td>\n",
       "      <td>Health and beauty</td>\n",
       "      <td>58.22</td>\n",
       "      <td>8.0</td>\n",
       "      <td>8</td>\n",
       "      <td>NaN</td>\n",
       "      <td>23.3%</td>\n",
       "      <td>$465.76</td>\n",
       "      <td>1/27/2019</td>\n",
       "      <td>8:33:00 PM</td>\n",
       "      <td>Ewallet</td>\n",
       "      <td>465.76</td>\n",
       "      <td>4.761905</td>\n",
       "      <td>23.2880</td>\n",
       "      <td>8.4</td>\n",
       "    </tr>\n",
       "    <tr>\n",
       "      <th>4</th>\n",
       "      <td>373-73-7910</td>\n",
       "      <td>A</td>\n",
       "      <td>Yangon</td>\n",
       "      <td>Normal</td>\n",
       "      <td>Sports and travel</td>\n",
       "      <td>86.31</td>\n",
       "      <td>7.0</td>\n",
       "      <td>7</td>\n",
       "      <td>NaN</td>\n",
       "      <td>30.2%</td>\n",
       "      <td>$604.17</td>\n",
       "      <td>2/8/2019</td>\n",
       "      <td>10:37:00 AM</td>\n",
       "      <td>Ewallet</td>\n",
       "      <td>604.17</td>\n",
       "      <td>4.761905</td>\n",
       "      <td>30.2085</td>\n",
       "      <td>5.3</td>\n",
       "    </tr>\n",
       "  </tbody>\n",
       "</table>\n",
       "</div>"
      ],
      "text/plain": [
       "    Invoice ID Branch       City Customer type              Product line  \\\n",
       "0  750-67-8428   R1C1     Yangon      Customer         Health and beauty   \n",
       "1  226-31-3081      C  Naypyitaw        Normal  Electronic \\naccessories   \n",
       "2  631-41-3108      A     Yangon        Normal        Home and lifestyle   \n",
       "3  123-19-1176      A     Yangon      Customer         Health and beauty   \n",
       "4  373-73-7910      A     Yangon        Normal         Sports and travel   \n",
       "\n",
       "   Unit price  Quantity Review Quantity  Check Tax 5%     Total        Date  \\\n",
       "0       67.99       7.0               7    NaN  23.8%   $475.93    1/5/2019   \n",
       "1       15.28       5.0               5    NaN   3.8%    $76.40    3/8/2019   \n",
       "2       46.33       7.0               7    NaN  16.2%   $324.31    3/3/2019   \n",
       "3       58.22       8.0               8    NaN  23.3%   $465.76   1/27/2019   \n",
       "4       86.31       7.0               7    NaN  30.2%   $604.17    2/8/2019   \n",
       "\n",
       "          Time      Payment    cogs  gross margin percentage  gross income  \\\n",
       "0   1:08:00 PM      Ewallet  522.83                 4.761905       26.1415   \n",
       "1  10:29:00 AM         Cash   76.40                 4.761905        3.8200   \n",
       "2   1:23:00 PM  Credit card  324.31                      NaN       16.2155   \n",
       "3   8:33:00 PM      Ewallet  465.76                 4.761905       23.2880   \n",
       "4  10:37:00 AM      Ewallet  604.17                 4.761905       30.2085   \n",
       "\n",
       "   Rating  \n",
       "0     9.1  \n",
       "1     9.6  \n",
       "2     7.4  \n",
       "3     8.4  \n",
       "4     5.3  "
      ]
     },
     "execution_count": 3,
     "metadata": {},
     "output_type": "execute_result"
    }
   ],
   "source": [
    "data.head()"
   ]
  },
  {
   "cell_type": "code",
   "execution_count": 4,
   "metadata": {},
   "outputs": [
    {
     "data": {
      "text/html": [
       "<div>\n",
       "<style scoped>\n",
       "    .dataframe tbody tr th:only-of-type {\n",
       "        vertical-align: middle;\n",
       "    }\n",
       "\n",
       "    .dataframe tbody tr th {\n",
       "        vertical-align: top;\n",
       "    }\n",
       "\n",
       "    .dataframe thead th {\n",
       "        text-align: right;\n",
       "    }\n",
       "</style>\n",
       "<table border=\"1\" class=\"dataframe\">\n",
       "  <thead>\n",
       "    <tr style=\"text-align: right;\">\n",
       "      <th></th>\n",
       "      <th>Unit price</th>\n",
       "      <th>Quantity</th>\n",
       "      <th>Check</th>\n",
       "      <th>cogs</th>\n",
       "      <th>gross margin percentage</th>\n",
       "      <th>gross income</th>\n",
       "      <th>Rating</th>\n",
       "    </tr>\n",
       "  </thead>\n",
       "  <tbody>\n",
       "    <tr>\n",
       "      <th>count</th>\n",
       "      <td>1001.00000</td>\n",
       "      <td>1000.000000</td>\n",
       "      <td>0.0</td>\n",
       "      <td>1000.00000</td>\n",
       "      <td>9.980000e+02</td>\n",
       "      <td>1000.000000</td>\n",
       "      <td>1000.00000</td>\n",
       "    </tr>\n",
       "    <tr>\n",
       "      <th>mean</th>\n",
       "      <td>111.21964</td>\n",
       "      <td>5.510000</td>\n",
       "      <td>NaN</td>\n",
       "      <td>307.58738</td>\n",
       "      <td>4.761905e+00</td>\n",
       "      <td>15.379369</td>\n",
       "      <td>6.97270</td>\n",
       "    </tr>\n",
       "    <tr>\n",
       "      <th>std</th>\n",
       "      <td>1757.85597</td>\n",
       "      <td>2.923431</td>\n",
       "      <td>NaN</td>\n",
       "      <td>234.17651</td>\n",
       "      <td>6.220366e-14</td>\n",
       "      <td>11.708825</td>\n",
       "      <td>1.71858</td>\n",
       "    </tr>\n",
       "    <tr>\n",
       "      <th>min</th>\n",
       "      <td>10.08000</td>\n",
       "      <td>1.000000</td>\n",
       "      <td>NaN</td>\n",
       "      <td>10.17000</td>\n",
       "      <td>4.761905e+00</td>\n",
       "      <td>0.508500</td>\n",
       "      <td>4.00000</td>\n",
       "    </tr>\n",
       "    <tr>\n",
       "      <th>25%</th>\n",
       "      <td>32.90000</td>\n",
       "      <td>3.000000</td>\n",
       "      <td>NaN</td>\n",
       "      <td>118.49750</td>\n",
       "      <td>4.761905e+00</td>\n",
       "      <td>5.924875</td>\n",
       "      <td>5.50000</td>\n",
       "    </tr>\n",
       "    <tr>\n",
       "      <th>50%</th>\n",
       "      <td>55.39000</td>\n",
       "      <td>5.000000</td>\n",
       "      <td>NaN</td>\n",
       "      <td>241.76000</td>\n",
       "      <td>4.761905e+00</td>\n",
       "      <td>12.088000</td>\n",
       "      <td>7.00000</td>\n",
       "    </tr>\n",
       "    <tr>\n",
       "      <th>75%</th>\n",
       "      <td>77.95000</td>\n",
       "      <td>8.000000</td>\n",
       "      <td>NaN</td>\n",
       "      <td>448.90500</td>\n",
       "      <td>4.761905e+00</td>\n",
       "      <td>22.445250</td>\n",
       "      <td>8.50000</td>\n",
       "    </tr>\n",
       "    <tr>\n",
       "      <th>max</th>\n",
       "      <td>55665.43000</td>\n",
       "      <td>10.000000</td>\n",
       "      <td>NaN</td>\n",
       "      <td>993.00000</td>\n",
       "      <td>4.761905e+00</td>\n",
       "      <td>49.650000</td>\n",
       "      <td>10.00000</td>\n",
       "    </tr>\n",
       "  </tbody>\n",
       "</table>\n",
       "</div>"
      ],
      "text/plain": [
       "        Unit price     Quantity  Check        cogs  gross margin percentage  \\\n",
       "count   1001.00000  1000.000000    0.0  1000.00000             9.980000e+02   \n",
       "mean     111.21964     5.510000    NaN   307.58738             4.761905e+00   \n",
       "std     1757.85597     2.923431    NaN   234.17651             6.220366e-14   \n",
       "min       10.08000     1.000000    NaN    10.17000             4.761905e+00   \n",
       "25%       32.90000     3.000000    NaN   118.49750             4.761905e+00   \n",
       "50%       55.39000     5.000000    NaN   241.76000             4.761905e+00   \n",
       "75%       77.95000     8.000000    NaN   448.90500             4.761905e+00   \n",
       "max    55665.43000    10.000000    NaN   993.00000             4.761905e+00   \n",
       "\n",
       "       gross income      Rating  \n",
       "count   1000.000000  1000.00000  \n",
       "mean      15.379369     6.97270  \n",
       "std       11.708825     1.71858  \n",
       "min        0.508500     4.00000  \n",
       "25%        5.924875     5.50000  \n",
       "50%       12.088000     7.00000  \n",
       "75%       22.445250     8.50000  \n",
       "max       49.650000    10.00000  "
      ]
     },
     "execution_count": 4,
     "metadata": {},
     "output_type": "execute_result"
    }
   ],
   "source": [
    "data.describe()"
   ]
  },
  {
   "cell_type": "code",
   "execution_count": 5,
   "metadata": {},
   "outputs": [
    {
     "data": {
      "text/html": [
       "<div>\n",
       "<style scoped>\n",
       "    .dataframe tbody tr th:only-of-type {\n",
       "        vertical-align: middle;\n",
       "    }\n",
       "\n",
       "    .dataframe tbody tr th {\n",
       "        vertical-align: top;\n",
       "    }\n",
       "\n",
       "    .dataframe thead th {\n",
       "        text-align: right;\n",
       "    }\n",
       "</style>\n",
       "<table border=\"1\" class=\"dataframe\">\n",
       "  <thead>\n",
       "    <tr style=\"text-align: right;\">\n",
       "      <th></th>\n",
       "      <th>Invoice ID</th>\n",
       "      <th>Branch</th>\n",
       "      <th>City</th>\n",
       "      <th>Customer type</th>\n",
       "      <th>Product line</th>\n",
       "      <th>Unit price</th>\n",
       "      <th>Quantity</th>\n",
       "      <th>Review Quantity</th>\n",
       "      <th>Check</th>\n",
       "      <th>Tax 5%</th>\n",
       "      <th>Total</th>\n",
       "      <th>Date</th>\n",
       "      <th>Time</th>\n",
       "      <th>Payment</th>\n",
       "      <th>cogs</th>\n",
       "      <th>gross margin percentage</th>\n",
       "      <th>gross income</th>\n",
       "      <th>Rating</th>\n",
       "    </tr>\n",
       "  </thead>\n",
       "  <tbody>\n",
       "    <tr>\n",
       "      <th>997</th>\n",
       "      <td>727-02-1313</td>\n",
       "      <td>A</td>\n",
       "      <td>Yangon</td>\n",
       "      <td>Customer</td>\n",
       "      <td>Food and beverages</td>\n",
       "      <td>31.84</td>\n",
       "      <td>1.0</td>\n",
       "      <td>1</td>\n",
       "      <td>NaN</td>\n",
       "      <td>1.6%</td>\n",
       "      <td>$31.84</td>\n",
       "      <td>2/9/2019</td>\n",
       "      <td>1:22:00 PM</td>\n",
       "      <td>Cash</td>\n",
       "      <td>31.84</td>\n",
       "      <td>4.761905</td>\n",
       "      <td>1.592</td>\n",
       "      <td>7.7</td>\n",
       "    </tr>\n",
       "    <tr>\n",
       "      <th>998</th>\n",
       "      <td>347-56-2442</td>\n",
       "      <td>A</td>\n",
       "      <td>Yangon</td>\n",
       "      <td>Normal</td>\n",
       "      <td>Home and lifestyle</td>\n",
       "      <td>65.82</td>\n",
       "      <td>1.0</td>\n",
       "      <td>1</td>\n",
       "      <td>NaN</td>\n",
       "      <td>3.3%</td>\n",
       "      <td>$65.82</td>\n",
       "      <td>2/22/2019</td>\n",
       "      <td>3:33:00 PM</td>\n",
       "      <td>Cash</td>\n",
       "      <td>65.82</td>\n",
       "      <td>4.761905</td>\n",
       "      <td>3.291</td>\n",
       "      <td>4.1</td>\n",
       "    </tr>\n",
       "    <tr>\n",
       "      <th>999</th>\n",
       "      <td>849-09-3807</td>\n",
       "      <td>A</td>\n",
       "      <td>Yangon</td>\n",
       "      <td>Customer</td>\n",
       "      <td>Fashion accessories</td>\n",
       "      <td>88.34</td>\n",
       "      <td>7.0</td>\n",
       "      <td>7</td>\n",
       "      <td>NaN</td>\n",
       "      <td>30.9%</td>\n",
       "      <td>$618.38</td>\n",
       "      <td>2/18/2019</td>\n",
       "      <td>1:28:00 PM</td>\n",
       "      <td>Cash</td>\n",
       "      <td>618.38</td>\n",
       "      <td>4.761905</td>\n",
       "      <td>30.919</td>\n",
       "      <td>6.6</td>\n",
       "    </tr>\n",
       "    <tr>\n",
       "      <th>1000</th>\n",
       "      <td>NaN</td>\n",
       "      <td>NaN</td>\n",
       "      <td>NaN</td>\n",
       "      <td>NaN</td>\n",
       "      <td>NaN</td>\n",
       "      <td>55665.43</td>\n",
       "      <td>NaN</td>\n",
       "      <td>NaN</td>\n",
       "      <td>NaN</td>\n",
       "      <td>NaN</td>\n",
       "      <td>$-</td>\n",
       "      <td>NaN</td>\n",
       "      <td>NaN</td>\n",
       "      <td>NaN</td>\n",
       "      <td>NaN</td>\n",
       "      <td>NaN</td>\n",
       "      <td>NaN</td>\n",
       "      <td>NaN</td>\n",
       "    </tr>\n",
       "    <tr>\n",
       "      <th>1001</th>\n",
       "      <td>NaN</td>\n",
       "      <td>NaN</td>\n",
       "      <td>NaN</td>\n",
       "      <td>NaN</td>\n",
       "      <td>NaN</td>\n",
       "      <td>NaN</td>\n",
       "      <td>NaN</td>\n",
       "      <td>R1C1</td>\n",
       "      <td>NaN</td>\n",
       "      <td>NaN</td>\n",
       "      <td>NaN</td>\n",
       "      <td>NaN</td>\n",
       "      <td>NaN</td>\n",
       "      <td>NaN</td>\n",
       "      <td>NaN</td>\n",
       "      <td>NaN</td>\n",
       "      <td>NaN</td>\n",
       "      <td>NaN</td>\n",
       "    </tr>\n",
       "  </tbody>\n",
       "</table>\n",
       "</div>"
      ],
      "text/plain": [
       "       Invoice ID Branch    City Customer type         Product line  \\\n",
       "997   727-02-1313      A  Yangon      Customer   Food and beverages   \n",
       "998   347-56-2442      A  Yangon        Normal   Home and lifestyle   \n",
       "999   849-09-3807      A  Yangon      Customer  Fashion accessories   \n",
       "1000          NaN    NaN     NaN           NaN                  NaN   \n",
       "1001          NaN    NaN     NaN           NaN                  NaN   \n",
       "\n",
       "      Unit price  Quantity Review Quantity  Check Tax 5%     Total   \\\n",
       "997        31.84       1.0               1    NaN   1.6%    $31.84    \n",
       "998        65.82       1.0               1    NaN   3.3%    $65.82    \n",
       "999        88.34       7.0               7    NaN  30.9%   $618.38    \n",
       "1000    55665.43       NaN             NaN    NaN    NaN      $-      \n",
       "1001         NaN       NaN            R1C1    NaN    NaN        NaN   \n",
       "\n",
       "           Date        Time Payment    cogs  gross margin percentage  \\\n",
       "997    2/9/2019  1:22:00 PM    Cash   31.84                 4.761905   \n",
       "998   2/22/2019  3:33:00 PM    Cash   65.82                 4.761905   \n",
       "999   2/18/2019  1:28:00 PM    Cash  618.38                 4.761905   \n",
       "1000        NaN         NaN     NaN     NaN                      NaN   \n",
       "1001        NaN         NaN     NaN     NaN                      NaN   \n",
       "\n",
       "      gross income  Rating  \n",
       "997          1.592     7.7  \n",
       "998          3.291     4.1  \n",
       "999         30.919     6.6  \n",
       "1000           NaN     NaN  \n",
       "1001           NaN     NaN  "
      ]
     },
     "execution_count": 5,
     "metadata": {},
     "output_type": "execute_result"
    }
   ],
   "source": [
    "data.tail()"
   ]
  },
  {
   "cell_type": "code",
   "execution_count": 6,
   "metadata": {},
   "outputs": [
    {
     "data": {
      "text/plain": [
       "Invoice ID                    2\n",
       "Branch                        2\n",
       "City                          2\n",
       "Customer type                 2\n",
       "Product line                  2\n",
       "Unit price                    1\n",
       "Quantity                      2\n",
       "Review Quantity               1\n",
       "Check                      1002\n",
       "Tax 5%                        2\n",
       " Total                        1\n",
       "Date                          2\n",
       "Time                          2\n",
       "Payment                       2\n",
       "cogs                          2\n",
       "gross margin percentage       4\n",
       "gross income                  2\n",
       "Rating                        2\n",
       "dtype: int64"
      ]
     },
     "execution_count": 6,
     "metadata": {},
     "output_type": "execute_result"
    }
   ],
   "source": [
    "data.isnull().sum()"
   ]
  },
  {
   "cell_type": "code",
   "execution_count": 7,
   "metadata": {},
   "outputs": [],
   "source": [
    "data = data.drop(columns=\"Check\")"
   ]
  },
  {
   "cell_type": "code",
   "execution_count": 8,
   "metadata": {},
   "outputs": [
    {
     "data": {
      "text/plain": [
       "Invoice ID                 2\n",
       "Branch                     2\n",
       "City                       2\n",
       "Customer type              2\n",
       "Product line               2\n",
       "Unit price                 1\n",
       "Quantity                   2\n",
       "Review Quantity            1\n",
       "Tax 5%                     2\n",
       " Total                     1\n",
       "Date                       2\n",
       "Time                       2\n",
       "Payment                    2\n",
       "cogs                       2\n",
       "gross margin percentage    4\n",
       "gross income               2\n",
       "Rating                     2\n",
       "dtype: int64"
      ]
     },
     "execution_count": 8,
     "metadata": {},
     "output_type": "execute_result"
    }
   ],
   "source": [
    "data.isnull().sum()"
   ]
  },
  {
   "cell_type": "code",
   "execution_count": 9,
   "metadata": {},
   "outputs": [
    {
     "data": {
      "text/plain": [
       "(1002, 17)"
      ]
     },
     "execution_count": 9,
     "metadata": {},
     "output_type": "execute_result"
    }
   ],
   "source": [
    "data.shape"
   ]
  },
  {
   "cell_type": "code",
   "execution_count": 10,
   "metadata": {},
   "outputs": [],
   "source": [
    "data_drop = data.dropna(inplace=True)"
   ]
  },
  {
   "cell_type": "code",
   "execution_count": 11,
   "metadata": {},
   "outputs": [],
   "source": [
    "data_drop = data"
   ]
  },
  {
   "cell_type": "code",
   "execution_count": 12,
   "metadata": {},
   "outputs": [
    {
     "data": {
      "text/html": [
       "<div>\n",
       "<style scoped>\n",
       "    .dataframe tbody tr th:only-of-type {\n",
       "        vertical-align: middle;\n",
       "    }\n",
       "\n",
       "    .dataframe tbody tr th {\n",
       "        vertical-align: top;\n",
       "    }\n",
       "\n",
       "    .dataframe thead th {\n",
       "        text-align: right;\n",
       "    }\n",
       "</style>\n",
       "<table border=\"1\" class=\"dataframe\">\n",
       "  <thead>\n",
       "    <tr style=\"text-align: right;\">\n",
       "      <th></th>\n",
       "      <th>Unit price</th>\n",
       "      <th>Quantity</th>\n",
       "      <th>cogs</th>\n",
       "      <th>gross margin percentage</th>\n",
       "      <th>gross income</th>\n",
       "      <th>Rating</th>\n",
       "    </tr>\n",
       "  </thead>\n",
       "  <tbody>\n",
       "    <tr>\n",
       "      <th>count</th>\n",
       "      <td>998.000000</td>\n",
       "      <td>998.000000</td>\n",
       "      <td>998.000000</td>\n",
       "      <td>9.980000e+02</td>\n",
       "      <td>998.000000</td>\n",
       "      <td>998.000000</td>\n",
       "    </tr>\n",
       "    <tr>\n",
       "      <th>mean</th>\n",
       "      <td>55.675611</td>\n",
       "      <td>5.511022</td>\n",
       "      <td>307.713978</td>\n",
       "      <td>4.761905e+00</td>\n",
       "      <td>15.385699</td>\n",
       "      <td>6.973347</td>\n",
       "    </tr>\n",
       "    <tr>\n",
       "      <th>std</th>\n",
       "      <td>26.515555</td>\n",
       "      <td>2.924901</td>\n",
       "      <td>234.366846</td>\n",
       "      <td>6.220366e-14</td>\n",
       "      <td>11.718342</td>\n",
       "      <td>1.719914</td>\n",
       "    </tr>\n",
       "    <tr>\n",
       "      <th>min</th>\n",
       "      <td>10.080000</td>\n",
       "      <td>1.000000</td>\n",
       "      <td>10.170000</td>\n",
       "      <td>4.761905e+00</td>\n",
       "      <td>0.508500</td>\n",
       "      <td>4.000000</td>\n",
       "    </tr>\n",
       "    <tr>\n",
       "      <th>25%</th>\n",
       "      <td>32.825000</td>\n",
       "      <td>3.000000</td>\n",
       "      <td>117.292500</td>\n",
       "      <td>4.761905e+00</td>\n",
       "      <td>5.864625</td>\n",
       "      <td>5.500000</td>\n",
       "    </tr>\n",
       "    <tr>\n",
       "      <th>50%</th>\n",
       "      <td>55.420000</td>\n",
       "      <td>5.000000</td>\n",
       "      <td>241.760000</td>\n",
       "      <td>4.761905e+00</td>\n",
       "      <td>12.088000</td>\n",
       "      <td>7.000000</td>\n",
       "    </tr>\n",
       "    <tr>\n",
       "      <th>75%</th>\n",
       "      <td>77.945000</td>\n",
       "      <td>8.000000</td>\n",
       "      <td>449.515000</td>\n",
       "      <td>4.761905e+00</td>\n",
       "      <td>22.475750</td>\n",
       "      <td>8.500000</td>\n",
       "    </tr>\n",
       "    <tr>\n",
       "      <th>max</th>\n",
       "      <td>99.960000</td>\n",
       "      <td>10.000000</td>\n",
       "      <td>993.000000</td>\n",
       "      <td>4.761905e+00</td>\n",
       "      <td>49.650000</td>\n",
       "      <td>10.000000</td>\n",
       "    </tr>\n",
       "  </tbody>\n",
       "</table>\n",
       "</div>"
      ],
      "text/plain": [
       "       Unit price    Quantity        cogs  gross margin percentage  \\\n",
       "count  998.000000  998.000000  998.000000             9.980000e+02   \n",
       "mean    55.675611    5.511022  307.713978             4.761905e+00   \n",
       "std     26.515555    2.924901  234.366846             6.220366e-14   \n",
       "min     10.080000    1.000000   10.170000             4.761905e+00   \n",
       "25%     32.825000    3.000000  117.292500             4.761905e+00   \n",
       "50%     55.420000    5.000000  241.760000             4.761905e+00   \n",
       "75%     77.945000    8.000000  449.515000             4.761905e+00   \n",
       "max     99.960000   10.000000  993.000000             4.761905e+00   \n",
       "\n",
       "       gross income      Rating  \n",
       "count    998.000000  998.000000  \n",
       "mean      15.385699    6.973347  \n",
       "std       11.718342    1.719914  \n",
       "min        0.508500    4.000000  \n",
       "25%        5.864625    5.500000  \n",
       "50%       12.088000    7.000000  \n",
       "75%       22.475750    8.500000  \n",
       "max       49.650000   10.000000  "
      ]
     },
     "execution_count": 12,
     "metadata": {},
     "output_type": "execute_result"
    }
   ],
   "source": [
    "data_drop.describe()"
   ]
  },
  {
   "cell_type": "code",
   "execution_count": 13,
   "metadata": {},
   "outputs": [
    {
     "data": {
      "text/plain": [
       "(998, 17)"
      ]
     },
     "execution_count": 13,
     "metadata": {},
     "output_type": "execute_result"
    }
   ],
   "source": [
    "data_drop.shape"
   ]
  },
  {
   "cell_type": "code",
   "execution_count": 14,
   "metadata": {},
   "outputs": [
    {
     "name": "stdout",
     "output_type": "stream",
     "text": [
      "<class 'pandas.core.frame.DataFrame'>\n",
      "Int64Index: 998 entries, 0 to 999\n",
      "Data columns (total 17 columns):\n",
      " #   Column                   Non-Null Count  Dtype  \n",
      "---  ------                   --------------  -----  \n",
      " 0   Invoice ID               998 non-null    object \n",
      " 1   Branch                   998 non-null    object \n",
      " 2   City                     998 non-null    object \n",
      " 3   Customer type            998 non-null    object \n",
      " 4   Product line             998 non-null    object \n",
      " 5   Unit price               998 non-null    float64\n",
      " 6   Quantity                 998 non-null    float64\n",
      " 7   Review Quantity          998 non-null    object \n",
      " 8   Tax 5%                   998 non-null    object \n",
      " 9    Total                   998 non-null    object \n",
      " 10  Date                     998 non-null    object \n",
      " 11  Time                     998 non-null    object \n",
      " 12  Payment                  998 non-null    object \n",
      " 13  cogs                     998 non-null    float64\n",
      " 14  gross margin percentage  998 non-null    float64\n",
      " 15  gross income             998 non-null    float64\n",
      " 16  Rating                   998 non-null    float64\n",
      "dtypes: float64(6), object(11)\n",
      "memory usage: 140.3+ KB\n"
     ]
    }
   ],
   "source": [
    "data.info()"
   ]
  },
  {
   "cell_type": "code",
   "execution_count": 15,
   "metadata": {},
   "outputs": [],
   "source": [
    "data.columns = data.columns.str.strip()"
   ]
  },
  {
   "cell_type": "code",
   "execution_count": 17,
   "metadata": {},
   "outputs": [],
   "source": [
    "data_copy = data.copy()"
   ]
  },
  {
   "cell_type": "code",
   "execution_count": 21,
   "metadata": {},
   "outputs": [],
   "source": [
    "# Remove any non-numeric characters like commas, dollar signs, etc.\n",
    "data_copy['Total'] = data_copy['Total'].str.replace(r'$', '', regex=True)"
   ]
  },
  {
   "cell_type": "code",
   "execution_count": 22,
   "metadata": {},
   "outputs": [],
   "source": [
    "# Convert the 'Total' column from object to float\n",
    "data_copy['Total'] = data_copy['Total'].astype(float)"
   ]
  },
  {
   "cell_type": "code",
   "execution_count": 23,
   "metadata": {},
   "outputs": [
    {
     "name": "stdout",
     "output_type": "stream",
     "text": [
      "<class 'pandas.core.frame.DataFrame'>\n",
      "Int64Index: 998 entries, 0 to 999\n",
      "Data columns (total 17 columns):\n",
      " #   Column                   Non-Null Count  Dtype  \n",
      "---  ------                   --------------  -----  \n",
      " 0   Invoice ID               998 non-null    object \n",
      " 1   Branch                   998 non-null    object \n",
      " 2   City                     998 non-null    object \n",
      " 3   Customer type            998 non-null    object \n",
      " 4   Product line             998 non-null    object \n",
      " 5   Unit price               998 non-null    float64\n",
      " 6   Quantity                 998 non-null    float64\n",
      " 7   Review Quantity          998 non-null    object \n",
      " 8   Tax 5%                   998 non-null    object \n",
      " 9   Total                    998 non-null    float64\n",
      " 10  Date                     998 non-null    object \n",
      " 11  Time                     998 non-null    object \n",
      " 12  Payment                  998 non-null    object \n",
      " 13  cogs                     998 non-null    float64\n",
      " 14  gross margin percentage  998 non-null    float64\n",
      " 15  gross income             998 non-null    float64\n",
      " 16  Rating                   998 non-null    float64\n",
      "dtypes: float64(7), object(10)\n",
      "memory usage: 140.3+ KB\n"
     ]
    }
   ],
   "source": [
    "data_copy.info()"
   ]
  },
  {
   "cell_type": "code",
   "execution_count": null,
   "metadata": {},
   "outputs": [],
   "source": [
    "data_copy['Product line'] = data_copy['Product line'].replace({'Electronic \\naccessories': 'Electronic accessories'})"
   ]
  },
  {
   "cell_type": "markdown",
   "metadata": {},
   "source": [
    "## Q1. Product Category with highest total revenue\n",
    "##### The product category with highest total revenue is \"Food and Beverages\""
   ]
  },
  {
   "cell_type": "code",
   "execution_count": 26,
   "metadata": {},
   "outputs": [
    {
     "data": {
      "text/plain": [
       "Product line\n",
       "Food and beverages          53306.76\n",
       "Sports and travel           52497.93\n",
       "Fashion accessories         51719.90\n",
       "Electronic accessories      51673.63\n",
       "Home and lifestyle          50972.75\n",
       "Health and beauty           46804.28\n",
       "Electronic \\naccessories       76.40\n",
       "Name: Total, dtype: float64"
      ]
     },
     "execution_count": 26,
     "metadata": {},
     "output_type": "execute_result"
    }
   ],
   "source": [
    "# Group the data by 'Product line' and sum the 'Total' column to calculate total revenue for each product\n",
    "total_revenue_by_product = data_copy.groupby('Product line')['Total'].sum()\n",
    "total_revenue_by_product.sort_values(ascending=False)"
   ]
  },
  {
   "cell_type": "markdown",
   "metadata": {},
   "source": [
    "## Q2 Average Price of items across different product categories\n",
    "##### Average price by product is as presented:"
   ]
  },
  {
   "cell_type": "code",
   "execution_count": 27,
   "metadata": {},
   "outputs": [
    {
     "data": {
      "text/plain": [
       "Product line\n",
       "Fashion accessories         57.153652\n",
       "Sports and travel           56.993253\n",
       "Food and beverages          56.015607\n",
       "Home and lifestyle          55.373459\n",
       "Health and beauty           54.810395\n",
       "Electronic accessories      53.778047\n",
       "Electronic \\naccessories    15.280000\n",
       "Name: Unit price, dtype: float64"
      ]
     },
     "execution_count": 27,
     "metadata": {},
     "output_type": "execute_result"
    }
   ],
   "source": [
    "# Group the data by 'Product line' and find the mean of the 'Unit Price' column to calculate average price for each product\n",
    "mean_price_by_product = data_copy.groupby('Product line')['Unit price'].mean()\n",
    "mean_price_by_product.sort_values(ascending=False)"
   ]
  },
  {
   "cell_type": "markdown",
   "metadata": {},
   "source": [
    "## Q3 Which payment method is most commonly used by customers?\n",
    "##### The most common payment type is: Ewallet"
   ]
  },
  {
   "cell_type": "code",
   "execution_count": 30,
   "metadata": {},
   "outputs": [
    {
     "data": {
      "text/plain": [
       "array(['Ewallet', 'Cash', 'Credit card'], dtype=object)"
      ]
     },
     "execution_count": 30,
     "metadata": {},
     "output_type": "execute_result"
    }
   ],
   "source": [
    "# Most common payment method by customers can be obtained by determining the unique payment methods\n",
    "data_copy['Payment'].unique()"
   ]
  },
  {
   "cell_type": "code",
   "execution_count": 32,
   "metadata": {},
   "outputs": [
    {
     "data": {
      "text/plain": [
       "Ewallet        345\n",
       "Cash           344\n",
       "Credit card    309\n",
       "Name: Payment, dtype: int64"
      ]
     },
     "execution_count": 32,
     "metadata": {},
     "output_type": "execute_result"
    }
   ],
   "source": [
    "payment_counts = data_copy['Payment'].value_counts()\n",
    "payment_counts"
   ]
  },
  {
   "cell_type": "code",
   "execution_count": 34,
   "metadata": {},
   "outputs": [
    {
     "data": {
      "text/plain": [
       "'Ewallet'"
      ]
     },
     "execution_count": 34,
     "metadata": {},
     "output_type": "execute_result"
    }
   ],
   "source": [
    "# Get the most common payment method\n",
    "most_common_payment = data_copy['Payment'].mode()[0]\n",
    "most_common_payment"
   ]
  },
  {
   "cell_type": "markdown",
   "metadata": {},
   "source": [
    "## Q4. How do customer satisfaction scores differ across various locations?"
   ]
  },
  {
   "cell_type": "code",
   "execution_count": 37,
   "metadata": {},
   "outputs": [
    {
     "data": {
      "text/plain": [
       "City\n",
       "Naypyitaw    7.072866\n",
       "Yangon       7.025959\n",
       "Mandalay     6.820846\n",
       "Name: Rating, dtype: float64"
      ]
     },
     "execution_count": 37,
     "metadata": {},
     "output_type": "execute_result"
    }
   ],
   "source": [
    "# We can do this by comparing the customer location (City) with average rating\n",
    "average_rating_by_city = data_copy.groupby('City')['Rating'].mean()\n",
    "average_rating_by_city.sort_values(ascending=False)"
   ]
  },
  {
   "cell_type": "markdown",
   "metadata": {},
   "source": [
    "## Q5. On which day of the week are the highest sales recorded"
   ]
  },
  {
   "cell_type": "code",
   "execution_count": 48,
   "metadata": {},
   "outputs": [
    {
     "name": "stdout",
     "output_type": "stream",
     "text": [
      "        Date  Day_Name\n",
      "0 2019-01-05  Saturday\n",
      "1 2019-03-08    Friday\n",
      "3 2019-01-27    Sunday\n",
      "4 2019-02-08    Friday\n",
      "5 2019-03-25    Monday\n"
     ]
    }
   ],
   "source": [
    "# Convert the 'Date' column to datetime format\n",
    "data_copy['Date'] = pd.to_datetime(data_copy['Date'])\n",
    "\n",
    "# Extract the day name from the 'Date' column and create a new column 'Day_Name'\n",
    "data_copy['Day_Name'] = data_copy['Date'].dt.day_name()\n",
    "\n",
    "# Display the updated DataFrame with the new 'Day_Name' column\n",
    "print(data_copy[['Date', 'Day_Name']].head())"
   ]
  },
  {
   "cell_type": "code",
   "execution_count": 53,
   "metadata": {},
   "outputs": [
    {
     "data": {
      "text/plain": [
       "Day_Name\n",
       "Saturday     53401.49\n",
       "Tuesday      49030.71\n",
       "Thursday     43189.76\n",
       "Sunday       42016.54\n",
       "Friday       41834.61\n",
       "Wednesday    41484.18\n",
       "Monday       36094.36\n",
       "Name: Total, dtype: float64"
      ]
     },
     "execution_count": 53,
     "metadata": {},
     "output_type": "execute_result"
    }
   ],
   "source": [
    "# We can do this by comparing Day_name to Quantity\n",
    "daily_sales = data_copy.groupby('Day_Name')['Total'].sum()\n",
    "daily_sales.sort_values(ascending=False)"
   ]
  },
  {
   "cell_type": "code",
   "execution_count": 59,
   "metadata": {},
   "outputs": [
    {
     "data": {
      "text/html": [
       "<div>\n",
       "<style scoped>\n",
       "    .dataframe tbody tr th:only-of-type {\n",
       "        vertical-align: middle;\n",
       "    }\n",
       "\n",
       "    .dataframe tbody tr th {\n",
       "        vertical-align: top;\n",
       "    }\n",
       "\n",
       "    .dataframe thead th {\n",
       "        text-align: right;\n",
       "    }\n",
       "</style>\n",
       "<table border=\"1\" class=\"dataframe\">\n",
       "  <thead>\n",
       "    <tr style=\"text-align: right;\">\n",
       "      <th></th>\n",
       "      <th>Day_Name</th>\n",
       "      <th>Total</th>\n",
       "    </tr>\n",
       "  </thead>\n",
       "  <tbody>\n",
       "    <tr>\n",
       "      <th>2</th>\n",
       "      <td>Saturday</td>\n",
       "      <td>53401.49</td>\n",
       "    </tr>\n",
       "    <tr>\n",
       "      <th>5</th>\n",
       "      <td>Tuesday</td>\n",
       "      <td>49030.71</td>\n",
       "    </tr>\n",
       "    <tr>\n",
       "      <th>4</th>\n",
       "      <td>Thursday</td>\n",
       "      <td>43189.76</td>\n",
       "    </tr>\n",
       "    <tr>\n",
       "      <th>3</th>\n",
       "      <td>Sunday</td>\n",
       "      <td>42016.54</td>\n",
       "    </tr>\n",
       "    <tr>\n",
       "      <th>0</th>\n",
       "      <td>Friday</td>\n",
       "      <td>41834.61</td>\n",
       "    </tr>\n",
       "    <tr>\n",
       "      <th>6</th>\n",
       "      <td>Wednesday</td>\n",
       "      <td>41484.18</td>\n",
       "    </tr>\n",
       "    <tr>\n",
       "      <th>1</th>\n",
       "      <td>Monday</td>\n",
       "      <td>36094.36</td>\n",
       "    </tr>\n",
       "  </tbody>\n",
       "</table>\n",
       "</div>"
      ],
      "text/plain": [
       "    Day_Name     Total\n",
       "2   Saturday  53401.49\n",
       "5    Tuesday  49030.71\n",
       "4   Thursday  43189.76\n",
       "3     Sunday  42016.54\n",
       "0     Friday  41834.61\n",
       "6  Wednesday  41484.18\n",
       "1     Monday  36094.36"
      ]
     },
     "execution_count": 59,
     "metadata": {},
     "output_type": "execute_result"
    }
   ],
   "source": [
    "# Using reset_index\n",
    "daily_sales_reset = daily_sales.reset_index()\n",
    "daily_sales_reset.sort_values(by='Total', ascending=False, inplace=True)\n",
    "daily_sales_reset"
   ]
  },
  {
   "cell_type": "code",
   "execution_count": 63,
   "metadata": {},
   "outputs": [
    {
     "data": {
      "image/png": "[encoded data removed]",
      "text/plain": [
       "<Figure size 720x432 with 1 Axes>"
      ]
     },
     "metadata": {
      "needs_background": "light"
     },
     "output_type": "display_data"
    }
   ],
   "source": [
    "# Visualize the answer\n",
    "# Group by 'Day of Week' and sum the 'Total' sales\n",
    "weekly_sales = data_copy.groupby('Day_Name')['Total'].sum().reindex(\n",
    "    ['Monday', 'Tuesday', 'Wednesday', 'Thursday', 'Friday', 'Saturday', 'Sunday']\n",
    ").reset_index()\n",
    "\n",
    "# Plotting\n",
    "plt.figure(figsize=(10, 6))\n",
    "plt.bar(weekly_sales['Day_Name'], weekly_sales['Total'], color='skyblue')\n",
    "plt.title('Total Sales by Day of the Week')\n",
    "plt.xlabel('Day of the Week')\n",
    "plt.ylabel('Total Sales')\n",
    "plt.xticks(rotation=45)\n",
    "plt.grid(axis='y')\n",
    "\n",
    "# Show the plot\n",
    "plt.tight_layout()\n",
    "plt.show()"
   ]
  },
  {
   "cell_type": "markdown",
   "metadata": {},
   "source": [
    "## Q6. Is there a correlation between the number of items purchased and the amount spent?"
   ]
  },
  {
   "cell_type": "code",
   "execution_count": 40,
   "metadata": {},
   "outputs": [
    {
     "data": {
      "image/png": "[encoded data removed]",
      "text/plain": [
       "<Figure size 720x576 with 2 Axes>"
      ]
     },
     "metadata": {
      "needs_background": "light"
     },
     "output_type": "display_data"
    }
   ],
   "source": [
    "import matplotlib.pyplot as plt\n",
    "\n",
    "# Calculate the correlation matrix\n",
    "correlation_matrix = data_copy.corr()\n",
    "\n",
    "# Set up the matplotlib figure\n",
    "plt.figure(figsize=(10, 8))\n",
    "\n",
    "# Create a heatmap using seaborn\n",
    "sns.heatmap(correlation_matrix, annot=True, fmt=\".2f\", cmap='coolwarm', square=True, cbar=True)\n",
    "\n",
    "# Add title and labels\n",
    "plt.title('Correlation Heatmap')\n",
    "plt.show()"
   ]
  },
  {
   "cell_type": "code",
   "execution_count": 42,
   "metadata": {},
   "outputs": [
    {
     "name": "stdout",
     "output_type": "stream",
     "text": [
      "Correlation between Quantity and Total: 0.705447890016689\n"
     ]
    },
    {
     "data": {
      "image/png": "[encoded data removed]",
      "text/plain": [
       "<Figure size 720x432 with 1 Axes>"
      ]
     },
     "metadata": {
      "needs_background": "light"
     },
     "output_type": "display_data"
    }
   ],
   "source": [
    "# Calculate the correlation between 'Quantity' and 'Total'\n",
    "correlation = data_copy['Quantity'].corr(data_copy['Total'])\n",
    "\n",
    "# Display the result\n",
    "print(\"Correlation between Quantity and Total:\", correlation)\n",
    "\n",
    "# Set up the matplotlib figure\n",
    "plt.figure(figsize=(10, 6))\n",
    "\n",
    "# Create a scatter plot\n",
    "sns.scatterplot(data=data_copy, x='Quantity', y='Total')\n",
    "\n",
    "# Add a title and labels\n",
    "plt.title('Scatter Plot of Quantity vs Total Amount Spent')\n",
    "plt.xlabel('Quantity of Items Purchased')\n",
    "plt.ylabel('Total Amount Spent')\n",
    "\n",
    "# Show the plot\n",
    "plt.show()"
   ]
  },
  {
   "cell_type": "markdown",
   "metadata": {},
   "source": [
    "## Q7. What is the maximum profit earned in each city?"
   ]
  },
  {
   "cell_type": "code",
   "execution_count": 68,
   "metadata": {},
   "outputs": [
    {
     "data": {
      "image/png": "[encoded data removed]",
      "text/plain": [
       "<Figure size 720x432 with 1 Axes>"
      ]
     },
     "metadata": {
      "needs_background": "light"
     },
     "output_type": "display_data"
    }
   ],
   "source": [
    "# Calculate the profit for each transaction by subtracting cost of goods sold from the total\n",
    "max_profit_by_city = data_copy.groupby('City')['gross income'].max().reset_index()\n",
    "\n",
    "# Plotting\n",
    "plt.figure(figsize=(10, 6))\n",
    "plt.bar(max_profit_by_city['City'], max_profit_by_city['gross income'], color='lightgreen')\n",
    "plt.title('Maximum Profit by City')\n",
    "plt.xlabel('City')\n",
    "plt.ylabel('Maximum Profit')\n",
    "plt.xticks(rotation=45)\n",
    "plt.grid(axis='y')\n",
    "\n",
    "# Show the plot\n",
    "plt.tight_layout()\n",
    "plt.show()"
   ]
  },
  {
   "cell_type": "code",
   "execution_count": 69,
   "metadata": {},
   "outputs": [
    {
     "data": {
      "text/html": [
       "<div>\n",
       "<style scoped>\n",
       "    .dataframe tbody tr th:only-of-type {\n",
       "        vertical-align: middle;\n",
       "    }\n",
       "\n",
       "    .dataframe tbody tr th {\n",
       "        vertical-align: top;\n",
       "    }\n",
       "\n",
       "    .dataframe thead th {\n",
       "        text-align: right;\n",
       "    }\n",
       "</style>\n",
       "<table border=\"1\" class=\"dataframe\">\n",
       "  <thead>\n",
       "    <tr style=\"text-align: right;\">\n",
       "      <th></th>\n",
       "      <th>City</th>\n",
       "      <th>gross income</th>\n",
       "    </tr>\n",
       "  </thead>\n",
       "  <tbody>\n",
       "    <tr>\n",
       "      <th>0</th>\n",
       "      <td>Mandalay</td>\n",
       "      <td>48.69</td>\n",
       "    </tr>\n",
       "    <tr>\n",
       "      <th>1</th>\n",
       "      <td>Naypyitaw</td>\n",
       "      <td>49.65</td>\n",
       "    </tr>\n",
       "    <tr>\n",
       "      <th>2</th>\n",
       "      <td>Yangon</td>\n",
       "      <td>49.49</td>\n",
       "    </tr>\n",
       "  </tbody>\n",
       "</table>\n",
       "</div>"
      ],
      "text/plain": [
       "        City  gross income\n",
       "0   Mandalay         48.69\n",
       "1  Naypyitaw         49.65\n",
       "2     Yangon         49.49"
      ]
     },
     "execution_count": 69,
     "metadata": {},
     "output_type": "execute_result"
    }
   ],
   "source": [
    "max_profit_by_city"
   ]
  },
  {
   "cell_type": "markdown",
   "metadata": {},
   "source": [
    "## Q8. How does the method of payment affect the total income generated?\n"
   ]
  },
  {
   "cell_type": "code",
   "execution_count": 71,
   "metadata": {},
   "outputs": [
    {
     "data": {
      "image/png": "[encoded data removed]",
      "text/plain": [
       "<Figure size 720x432 with 1 Axes>"
      ]
     },
     "metadata": {
      "needs_background": "light"
     },
     "output_type": "display_data"
    }
   ],
   "source": [
    "# We can compare the 'Payment' to 'gross income'\n",
    "# Group by Payment method and sum the gross income\n",
    "income_by_payment = data_copy.groupby('Payment')['gross income'].sum().reset_index()\n",
    "\n",
    "# Plotting\n",
    "plt.figure(figsize=(10, 6))\n",
    "plt.bar(income_by_payment['Payment'], income_by_payment['gross income'], color='lightcoral')\n",
    "plt.title('Total Income Generated by Payment Method')\n",
    "plt.xlabel('Payment Method')\n",
    "plt.ylabel('Gross Income')\n",
    "plt.xticks(rotation=45)\n",
    "plt.grid(axis='y')\n",
    "\n",
    "# Show the plot\n",
    "plt.tight_layout()\n",
    "plt.show()"
   ]
  },
  {
   "cell_type": "markdown",
   "metadata": {},
   "source": [
    "## Q9. Which product category receives the highest number of customer ratings"
   ]
  },
  {
   "cell_type": "code",
   "execution_count": 72,
   "metadata": {},
   "outputs": [
    {
     "data": {
      "text/html": [
       "<div>\n",
       "<style scoped>\n",
       "    .dataframe tbody tr th:only-of-type {\n",
       "        vertical-align: middle;\n",
       "    }\n",
       "\n",
       "    .dataframe tbody tr th {\n",
       "        vertical-align: top;\n",
       "    }\n",
       "\n",
       "    .dataframe thead th {\n",
       "        text-align: right;\n",
       "    }\n",
       "</style>\n",
       "<table border=\"1\" class=\"dataframe\">\n",
       "  <thead>\n",
       "    <tr style=\"text-align: right;\">\n",
       "      <th></th>\n",
       "      <th>Product line</th>\n",
       "      <th>Rating</th>\n",
       "    </tr>\n",
       "  </thead>\n",
       "  <tbody>\n",
       "    <tr>\n",
       "      <th>0</th>\n",
       "      <td>Electronic \\naccessories</td>\n",
       "      <td>9.600000</td>\n",
       "    </tr>\n",
       "    <tr>\n",
       "      <th>1</th>\n",
       "      <td>Electronic accessories</td>\n",
       "      <td>6.908876</td>\n",
       "    </tr>\n",
       "    <tr>\n",
       "      <th>2</th>\n",
       "      <td>Fashion accessories</td>\n",
       "      <td>7.029213</td>\n",
       "    </tr>\n",
       "    <tr>\n",
       "      <th>3</th>\n",
       "      <td>Food and beverages</td>\n",
       "      <td>7.120231</td>\n",
       "    </tr>\n",
       "    <tr>\n",
       "      <th>4</th>\n",
       "      <td>Health and beauty</td>\n",
       "      <td>7.003289</td>\n",
       "    </tr>\n",
       "    <tr>\n",
       "      <th>5</th>\n",
       "      <td>Home and lifestyle</td>\n",
       "      <td>6.833962</td>\n",
       "    </tr>\n",
       "    <tr>\n",
       "      <th>6</th>\n",
       "      <td>Sports and travel</td>\n",
       "      <td>6.916265</td>\n",
       "    </tr>\n",
       "  </tbody>\n",
       "</table>\n",
       "</div>"
      ],
      "text/plain": [
       "               Product line    Rating\n",
       "0  Electronic \\naccessories  9.600000\n",
       "1    Electronic accessories  6.908876\n",
       "2       Fashion accessories  7.029213\n",
       "3        Food and beverages  7.120231\n",
       "4         Health and beauty  7.003289\n",
       "5        Home and lifestyle  6.833962\n",
       "6         Sports and travel  6.916265"
      ]
     },
     "execution_count": 72,
     "metadata": {},
     "output_type": "execute_result"
    }
   ],
   "source": [
    "# We can compare the 'Product line' to 'Rating'\n",
    "# Group by 'Product line' and average 'Rating' \n",
    "income_by_payment = data_copy.groupby('Product line')['Rating'].mean().reset_index()\n",
    "income_by_payment"
   ]
  },
  {
   "cell_type": "code",
   "execution_count": 77,
   "metadata": {},
   "outputs": [
    {
     "data": {
      "text/html": [
       "<div>\n",
       "<style scoped>\n",
       "    .dataframe tbody tr th:only-of-type {\n",
       "        vertical-align: middle;\n",
       "    }\n",
       "\n",
       "    .dataframe tbody tr th {\n",
       "        vertical-align: top;\n",
       "    }\n",
       "\n",
       "    .dataframe thead th {\n",
       "        text-align: right;\n",
       "    }\n",
       "</style>\n",
       "<table border=\"1\" class=\"dataframe\">\n",
       "  <thead>\n",
       "    <tr style=\"text-align: right;\">\n",
       "      <th></th>\n",
       "      <th>Product line</th>\n",
       "      <th>Rating</th>\n",
       "    </tr>\n",
       "  </thead>\n",
       "  <tbody>\n",
       "    <tr>\n",
       "      <th>2</th>\n",
       "      <td>Food and beverages</td>\n",
       "      <td>7.120231</td>\n",
       "    </tr>\n",
       "    <tr>\n",
       "      <th>1</th>\n",
       "      <td>Fashion accessories</td>\n",
       "      <td>7.029213</td>\n",
       "    </tr>\n",
       "    <tr>\n",
       "      <th>3</th>\n",
       "      <td>Health and beauty</td>\n",
       "      <td>7.003289</td>\n",
       "    </tr>\n",
       "    <tr>\n",
       "      <th>0</th>\n",
       "      <td>Electronic accessories</td>\n",
       "      <td>6.924706</td>\n",
       "    </tr>\n",
       "    <tr>\n",
       "      <th>5</th>\n",
       "      <td>Sports and travel</td>\n",
       "      <td>6.916265</td>\n",
       "    </tr>\n",
       "    <tr>\n",
       "      <th>4</th>\n",
       "      <td>Home and lifestyle</td>\n",
       "      <td>6.833962</td>\n",
       "    </tr>\n",
       "  </tbody>\n",
       "</table>\n",
       "</div>"
      ],
      "text/plain": [
       "             Product line    Rating\n",
       "2      Food and beverages  7.120231\n",
       "1     Fashion accessories  7.029213\n",
       "3       Health and beauty  7.003289\n",
       "0  Electronic accessories  6.924706\n",
       "5       Sports and travel  6.916265\n",
       "4      Home and lifestyle  6.833962"
      ]
     },
     "execution_count": 77,
     "metadata": {},
     "output_type": "execute_result"
    }
   ],
   "source": [
    "# We can compare the 'Product line' to 'Rating'\n",
    "# Group by 'Product line' and average 'Rating' \n",
    "average_rating_by_product = data_copy.groupby('Product line')['Rating'].mean().reset_index()\n",
    "average_rating_by_product.sort_values(by='Rating', ascending=False, inplace=True)\n",
    "average_rating_by_product"
   ]
  },
  {
   "cell_type": "code",
   "execution_count": 78,
   "metadata": {},
   "outputs": [
    {
     "data": {
      "image/png": "[encoded data removed]",
      "text/plain": [
       "<Figure size 720x432 with 1 Axes>"
      ]
     },
     "metadata": {
      "needs_background": "light"
     },
     "output_type": "display_data"
    }
   ],
   "source": [
    "# Plotting\n",
    "plt.figure(figsize=(10, 6))\n",
    "plt.bar(average_rating_by_product['Product line'], average_rating_by_product['Rating'], color='skyblue')\n",
    "plt.title('Average Ratings by Product Category')\n",
    "plt.xlabel('Product Category')\n",
    "plt.ylabel('Average Rating')\n",
    "plt.xticks(rotation=45)\n",
    "plt.grid(axis='y')\n",
    "\n",
    "# Show the plot\n",
    "plt.tight_layout()\n",
    "plt.show()"
   ]
  },
  {
   "cell_type": "markdown",
   "metadata": {},
   "source": [
    "## Q10. Top 3 locations with the highest revenues"
   ]
  },
  {
   "cell_type": "code",
   "execution_count": 82,
   "metadata": {},
   "outputs": [
    {
     "data": {
      "text/html": [
       "<div>\n",
       "<style scoped>\n",
       "    .dataframe tbody tr th:only-of-type {\n",
       "        vertical-align: middle;\n",
       "    }\n",
       "\n",
       "    .dataframe tbody tr th {\n",
       "        vertical-align: top;\n",
       "    }\n",
       "\n",
       "    .dataframe thead th {\n",
       "        text-align: right;\n",
       "    }\n",
       "</style>\n",
       "<table border=\"1\" class=\"dataframe\">\n",
       "  <thead>\n",
       "    <tr style=\"text-align: right;\">\n",
       "      <th></th>\n",
       "      <th>City</th>\n",
       "      <th>gross income</th>\n",
       "    </tr>\n",
       "  </thead>\n",
       "  <tbody>\n",
       "    <tr>\n",
       "      <th>1</th>\n",
       "      <td>Naypyitaw</td>\n",
       "      <td>5265.1765</td>\n",
       "    </tr>\n",
       "    <tr>\n",
       "      <th>0</th>\n",
       "      <td>Mandalay</td>\n",
       "      <td>5048.8060</td>\n",
       "    </tr>\n",
       "    <tr>\n",
       "      <th>2</th>\n",
       "      <td>Yangon</td>\n",
       "      <td>5040.9450</td>\n",
       "    </tr>\n",
       "  </tbody>\n",
       "</table>\n",
       "</div>"
      ],
      "text/plain": [
       "        City  gross income\n",
       "1  Naypyitaw     5265.1765\n",
       "0   Mandalay     5048.8060\n",
       "2     Yangon     5040.9450"
      ]
     },
     "execution_count": 82,
     "metadata": {},
     "output_type": "execute_result"
    }
   ],
   "source": [
    "# We can group by \"City\" and compare to 'Gross income'\n",
    "# Group by City and calculate the gross income\n",
    "total_revenue_by_city = data_copy.groupby('City')['gross income'].sum().reset_index()\n",
    "\n",
    "# Sort the DataFrame by Total in descending order\n",
    "total_revenue_by_city = total_revenue_by_city.sort_values(by='gross income', ascending=False)\n",
    "\n",
    "# Select the top 3 locations\n",
    "top_3_locations = total_revenue_by_city.head(3)\n",
    "top_3_locations"
   ]
  },
  {
   "cell_type": "code",
   "execution_count": 83,
   "metadata": {},
   "outputs": [
    {
     "data": {
      "image/png": "[encoded data removed]",
      "text/plain": [
       "<Figure size 720x432 with 1 Axes>"
      ]
     },
     "metadata": {
      "needs_background": "light"
     },
     "output_type": "display_data"
    }
   ],
   "source": [
    "# Plotting\n",
    "plt.figure(figsize=(10, 6))\n",
    "plt.bar(total_revenue_by_city['City'], top_3_locations['gross income'], color='lightblue')\n",
    "plt.title('Top 3 Locations with Highest Total Revenue')\n",
    "plt.xlabel('City')\n",
    "plt.ylabel('Total Revenue')\n",
    "plt.xticks(rotation=45)\n",
    "plt.grid(axis='y')\n",
    "\n",
    "# Show the plot\n",
    "plt.tight_layout()\n",
    "plt.show()"
   ]
  },
  {
   "cell_type": "code",
   "execution_count": 84,
   "metadata": {},
   "outputs": [
    {
     "data": {
      "text/plain": [
       "(3, 2)"
      ]
     },
     "execution_count": 84,
     "metadata": {},
     "output_type": "execute_result"
    }
   ],
   "source": [
    "total_revenue_by_city.shape"
   ]
  },
  {
   "cell_type": "markdown",
   "metadata": {},
   "source": [
    "## Q11. Which type of customer (e.g. first time vs. regular) tends to spend more?"
   ]
  },
  {
   "cell_type": "code",
   "execution_count": 85,
   "metadata": {},
   "outputs": [
    {
     "data": {
      "text/plain": [
       "array(['Customer', 'Normal'], dtype=object)"
      ]
     },
     "execution_count": 85,
     "metadata": {},
     "output_type": "execute_result"
    }
   ],
   "source": [
    "data_copy['Customer type'].unique()"
   ]
  },
  {
   "cell_type": "code",
   "execution_count": 87,
   "metadata": {},
   "outputs": [
    {
     "data": {
      "text/html": [
       "<div>\n",
       "<style scoped>\n",
       "    .dataframe tbody tr th:only-of-type {\n",
       "        vertical-align: middle;\n",
       "    }\n",
       "\n",
       "    .dataframe tbody tr th {\n",
       "        vertical-align: top;\n",
       "    }\n",
       "\n",
       "    .dataframe thead th {\n",
       "        text-align: right;\n",
       "    }\n",
       "</style>\n",
       "<table border=\"1\" class=\"dataframe\">\n",
       "  <thead>\n",
       "    <tr style=\"text-align: right;\">\n",
       "      <th></th>\n",
       "      <th>Customer type</th>\n",
       "      <th>Total</th>\n",
       "    </tr>\n",
       "  </thead>\n",
       "  <tbody>\n",
       "    <tr>\n",
       "      <th>0</th>\n",
       "      <td>Customer</td>\n",
       "      <td>312.383720</td>\n",
       "    </tr>\n",
       "    <tr>\n",
       "      <th>1</th>\n",
       "      <td>Normal</td>\n",
       "      <td>302.931305</td>\n",
       "    </tr>\n",
       "  </tbody>\n",
       "</table>\n",
       "</div>"
      ],
      "text/plain": [
       "  Customer type       Total\n",
       "0      Customer  312.383720\n",
       "1        Normal  302.931305"
      ]
     },
     "execution_count": 87,
     "metadata": {},
     "output_type": "execute_result"
    }
   ],
   "source": [
    "# Group by Customer Type and calculate the average Total spending\n",
    "average_spending_by_customer_type = data_copy.groupby('Customer type')['Total'].mean().reset_index()\n",
    "average_spending_by_customer_type"
   ]
  },
  {
   "cell_type": "markdown",
   "metadata": {},
   "source": [
    "## Q12. Do sales significantly differ between weekdays and weekends?"
   ]
  },
  {
   "cell_type": "code",
   "execution_count": 91,
   "metadata": {},
   "outputs": [
    {
     "name": "stdout",
     "output_type": "stream",
     "text": [
      "T-statistic: -1.2865254206030372\n",
      "P-value: 0.19855870510111617\n"
     ]
    }
   ],
   "source": [
    "# Step 1: Categorize days into Weekdays and Weekends\n",
    "data_copy['Day_Type'] = data_copy['Day_Name'].apply(lambda x: 'Weekend' if x in ['Saturday', 'Sunday'] else 'Weekday')\n",
    "\n",
    "# Step 2: Group by Day_Type and calculate total sales\n",
    "sales_by_day_type = data_copy.groupby('Day_Type')['Total'].sum().reset_index()\n",
    "\n",
    "# Step 3: Perform a t-test to compare sales between weekdays and weekends\n",
    "weekdays_sales = data_copy[data_copy['Day_Type'] == 'Weekday']['Total']\n",
    "weekends_sales = data_copy[data_copy['Day_Type'] == 'Weekend']['Total']\n",
    "\n",
    "t_stat, p_value = stats.ttest_ind(weekdays_sales, weekends_sales)\n",
    "\n",
    "# Print the results\n",
    "print(f'T-statistic: {t_stat}')\n",
    "print(f'P-value: {p_value}')"
   ]
  },
  {
   "cell_type": "markdown",
   "metadata": {},
   "source": [
    "There is no sigificant difference since the p-value is higher than 0.05"
   ]
  },
  {
   "cell_type": "markdown",
   "metadata": {},
   "source": [
    "## Q13. Which product category yields the highest profit margins?"
   ]
  },
  {
   "cell_type": "code",
   "execution_count": 92,
   "metadata": {},
   "outputs": [
    {
     "data": {
      "text/html": [
       "<div>\n",
       "<style scoped>\n",
       "    .dataframe tbody tr th:only-of-type {\n",
       "        vertical-align: middle;\n",
       "    }\n",
       "\n",
       "    .dataframe tbody tr th {\n",
       "        vertical-align: top;\n",
       "    }\n",
       "\n",
       "    .dataframe thead th {\n",
       "        text-align: right;\n",
       "    }\n",
       "</style>\n",
       "<table border=\"1\" class=\"dataframe\">\n",
       "  <thead>\n",
       "    <tr style=\"text-align: right;\">\n",
       "      <th></th>\n",
       "      <th>Product line</th>\n",
       "      <th>gross income</th>\n",
       "    </tr>\n",
       "  </thead>\n",
       "  <tbody>\n",
       "    <tr>\n",
       "      <th>2</th>\n",
       "      <td>Food and beverages</td>\n",
       "      <td>2665.3380</td>\n",
       "    </tr>\n",
       "    <tr>\n",
       "      <th>5</th>\n",
       "      <td>Sports and travel</td>\n",
       "      <td>2624.8965</td>\n",
       "    </tr>\n",
       "    <tr>\n",
       "      <th>0</th>\n",
       "      <td>Electronic accessories</td>\n",
       "      <td>2587.5015</td>\n",
       "    </tr>\n",
       "    <tr>\n",
       "      <th>1</th>\n",
       "      <td>Fashion accessories</td>\n",
       "      <td>2585.9950</td>\n",
       "    </tr>\n",
       "    <tr>\n",
       "      <th>4</th>\n",
       "      <td>Home and lifestyle</td>\n",
       "      <td>2548.6375</td>\n",
       "    </tr>\n",
       "    <tr>\n",
       "      <th>3</th>\n",
       "      <td>Health and beauty</td>\n",
       "      <td>2342.5590</td>\n",
       "    </tr>\n",
       "  </tbody>\n",
       "</table>\n",
       "</div>"
      ],
      "text/plain": [
       "             Product line  gross income\n",
       "2      Food and beverages     2665.3380\n",
       "5       Sports and travel     2624.8965\n",
       "0  Electronic accessories     2587.5015\n",
       "1     Fashion accessories     2585.9950\n",
       "4      Home and lifestyle     2548.6375\n",
       "3       Health and beauty     2342.5590"
      ]
     },
     "execution_count": 92,
     "metadata": {},
     "output_type": "execute_result"
    }
   ],
   "source": [
    "# We can compare 'Product line' to 'gross income'\n",
    "highest_profit_by_product = data_copy.groupby('Product line')['gross income'].sum().reset_index()\n",
    "highest_profit_by_product.sort_values(by='gross income', ascending=False, inplace=True)\n",
    "highest_profit_by_product"
   ]
  },
  {
   "cell_type": "code",
   "execution_count": 95,
   "metadata": {},
   "outputs": [
    {
     "name": "stdout",
     "output_type": "stream",
     "text": [
      "Product Category with Highest Profit Margin:\n",
      "Product line         Health and beauty\n",
      "Total                          46804.3\n",
      "Gross_Income                   2342.56\n",
      "Profit Margin (%)              5.00501\n",
      "Name: 3, dtype: object\n"
     ]
    },
    {
     "data": {
      "image/png": "[encoded data removed]",
      "text/plain": [
       "<Figure size 720x432 with 1 Axes>"
      ]
     },
     "metadata": {
      "needs_background": "light"
     },
     "output_type": "display_data"
    }
   ],
   "source": [
    "# Step 1: Group by Product Line and calculate total Gross Income and Total\n",
    "profit_margin_by_product = data_copy.groupby('Product line').agg(\n",
    "    Total=('Total', 'sum'),\n",
    "    Gross_Income=('gross income', 'sum')\n",
    ").reset_index()\n",
    "\n",
    "# Step 2: Calculate Profit Margin\n",
    "profit_margin_by_product['Profit Margin (%)'] = (profit_margin_by_product['Gross_Income'] / profit_margin_by_product['Total']) * 100\n",
    "\n",
    "# Step 3: Identify the Product Category with the Highest Margin\n",
    "highest_margin_product = profit_margin_by_product.loc[profit_margin_by_product['Profit Margin (%)'].idxmax()]\n",
    "\n",
    "# Print the category with the highest profit margin\n",
    "print(\"Product Category with Highest Profit Margin:\")\n",
    "print(highest_margin_product)\n",
    "\n",
    "# Step 4: Visualization\n",
    "plt.figure(figsize=(10, 6))\n",
    "plt.bar(profit_margin_by_product['Product line'], profit_margin_by_product['Profit Margin (%)'], color='lightblue')\n",
    "plt.title('Profit Margins by Product Category')\n",
    "plt.xlabel('Product Category')\n",
    "plt.ylabel('Profit Margin (%)')\n",
    "plt.xticks(rotation=45)\n",
    "plt.grid(axis='y')\n",
    "\n",
    "# Show the plot\n",
    "plt.tight_layout()\n",
    "plt.show()"
   ]
  },
  {
   "cell_type": "markdown",
   "metadata": {},
   "source": [
    "## Q14. What time of day results in the highest average profit?"
   ]
  },
  {
   "cell_type": "code",
   "execution_count": 104,
   "metadata": {},
   "outputs": [
    {
     "name": "stdout",
     "output_type": "stream",
     "text": [
      "Hour of the Day with Highest Average Profit:\n",
      "Hour            14.000000\n",
      "gross income    17.686976\n",
      "Name: 4, dtype: float64\n"
     ]
    },
    {
     "data": {
      "image/png": "[encoded data removed]",
      "text/plain": [
       "<Figure size 720x432 with 1 Axes>"
      ]
     },
     "metadata": {
      "needs_background": "light"
     },
     "output_type": "display_data"
    }
   ],
   "source": [
    "# Step 1: Convert Time to datetime and extract the hour (corrected format)\n",
    "data_copy['Hour'] = pd.to_datetime(data_copy['Time'], format='%I:%M:%S %p').dt.hour\n",
    "\n",
    "# Step 2: Group by Hour and calculate average Gross Income\n",
    "average_profit_by_hour = data_copy.groupby('Hour')['gross income'].mean().reset_index()\n",
    "\n",
    "# Step 3: Identify the Hour with the Highest Average Profit\n",
    "highest_profit_hour = average_profit_by_hour.loc[average_profit_by_hour['gross income'].idxmax()]\n",
    "\n",
    "# Print the hour with the highest average profit\n",
    "print(\"Hour of the Day with Highest Average Profit:\")\n",
    "print(highest_profit_hour)\n",
    "\n",
    "# Step 4: Visualization\n",
    "plt.figure(figsize=(10, 6))\n",
    "plt.plot(average_profit_by_hour['Hour'], average_profit_by_hour['gross income'], marker='o', color='lightblue')\n",
    "plt.title('Average Profit by Hour of the Day')\n",
    "plt.xlabel('Hour of the Day')\n",
    "plt.ylabel('Average Profit')\n",
    "plt.xticks(range(24))  # Set x-ticks to represent hours\n",
    "plt.grid()\n",
    "\n",
    "# Show the plot\n",
    "plt.tight_layout()\n",
    "plt.show()"
   ]
  },
  {
   "cell_type": "markdown",
   "metadata": {},
   "source": [
    "## Q15. Which city shows the highest customer satisfaction for specific product types?\n"
   ]
  },
  {
   "cell_type": "code",
   "execution_count": 108,
   "metadata": {},
   "outputs": [
    {
     "name": "stdout",
     "output_type": "stream",
     "text": [
      "City with the Highest Customer Satisfaction for Each Product Type:\n",
      "         City            Product line    Rating\n",
      "0    Mandalay  Electronic accessories  7.116364\n",
      "7   Naypyitaw     Fashion accessories  7.440000\n",
      "14     Yangon      Food and beverages  7.253448\n",
      "3    Mandalay       Health and beauty  7.100000\n",
      "10  Naypyitaw      Home and lifestyle  7.060000\n",
      "17     Yangon       Sports and travel  7.257627\n"
     ]
    }
   ],
   "source": [
    "# We can compare 'Product line' to 'Rating'\n",
    "customer_satifaction_by_product = data_copy.groupby(['City','Product line'])['Rating'].mean().reset_index()\n",
    "customer_satifaction_by_product.sort_values(by='Rating', ascending=False, inplace=True)\n",
    "customer_satifaction_by_product\n",
    "\n",
    "# Step 2: Identify the City with the Highest Average Rating for Each Product line\n",
    "highest_rating = customer_satifaction_by_product.loc[customer_satifaction_by_product.groupby('Product line')['Rating'].idxmax()]\n",
    "\n",
    "# Print the results\n",
    "print(\"City with the Highest Customer Satisfaction for Each Product Type:\")\n",
    "print(highest_rating)"
   ]
  },
  {
   "cell_type": "code",
   "execution_count": null,
   "metadata": {},
   "outputs": [],
   "source": []
  }
 ],
 "metadata": {
  "kernelspec": {
   "display_name": "Python 3",
   "language": "python",
   "name": "python3"
  },
  "language_info": {
   "codemirror_mode": {
    "name": "ipython",
    "version": 3
   },
   "file_extension": ".py",
   "mimetype": "text/x-python",
   "name": "python",
   "nbconvert_exporter": "python",
   "pygments_lexer": "ipython3",
   "version": "3.8.5"
  }
 },
 "nbformat": 4,
 "nbformat_minor": 4
}
